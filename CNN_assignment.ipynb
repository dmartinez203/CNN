{
 "cells": [
  {
   "cell_type": "markdown",
   "id": "d124c3f1",
   "metadata": {},
   "source": [
    "# Convolutional Neural Network (CNN) Image Recognition Assignment\n",
    "\n",
    "This notebook contains the full assignment: dataset selection, model implementation, training, evaluation, plots, and analysis.\n",
    "\n",
    "**Dataset chosen:** CIFAR-10 (available from Keras).\n",
    "\n",
    "**What the CNN will recognize:** 10 classes of tiny (32x32) images: airplane, automobile, bird, cat, deer, dog, frog, horse, ship, truck."
   ]
  },
  {
   "cell_type": "markdown",
   "id": "1e0119e2",
   "metadata": {},
   "source": [
    "## Problem statement\n",
    "\n",
    "Build and train a CNN to classify images from the CIFAR-10 dataset into their correct class. Evaluate model accuracy and loss on training and test sets, plot training curves, and provide analysis of the findings."
   ]
  },
  {
   "cell_type": "markdown",
   "id": "5c06b3af",
   "metadata": {},
   "source": [
    "## Algorithm / Approach\n",
    "\n",
    "1. Load CIFAR-10 dataset.\n",
    "2. Preprocess: normalize images to [0,1], one-hot encode labels.\n",
    "3. Build CNN: multiple Conv2D + ReLU + MaxPooling layers, Flatten, Dense (ReLU), Output Dense (Softmax).\n",
    "4. Compile with categorical_crossentropy, adam optimizer, and accuracy metric.\n",
    "5. Train for >= 50 epochs with validation split and callbacks.\n",
    "6. Evaluate on test set, plot loss/accuracy, show confusion matrix and sample predictions."
   ]
  },
  {
   "cell_type": "code",
   "execution_count": null,
   "id": "338312e2",
   "metadata": {},
   "outputs": [],
   "source": [
    "# Imports\n",
    "import numpy as np\n",
    "import matplotlib.pyplot as plt\n",
    "import tensorflow as tf\n",
    "from tensorflow import keras\n",
    "from tensorflow.keras import layers, models\n",
    "from tensorflow.keras.utils import to_categorical\n",
    "from tensorflow.keras.callbacks import EarlyStopping, ModelCheckpoint\n",
    "import seaborn as sns\n",
    "from sklearn.metrics import confusion_matrix, classification_report\n",
    "\n",
    "print('TensorFlow version:', tf.__version__)"
   ]
  },
  {
   "cell_type": "code",
   "execution_count": null,
   "id": "335196fe",
   "metadata": {},
   "outputs": [],
   "source": [
    "# Load CIFAR-10 dataset\n",
    "(x_train, y_train), (x_test, y_test) = keras.datasets.cifar10.load_data()\n",
    "class_names = ['airplane','automobile','bird','cat','deer','dog','frog','horse','ship','truck']\n",
    "\n",
    "print('x_train shape:', x_train.shape)\n",
    "print('y_train shape:', y_train.shape)\n",
    "print('x_test shape:', x_test.shape)\n",
    "print('y_test shape:', y_test.shape)"
   ]
  },
  {
   "cell_type": "code",
   "execution_count": null,
   "id": "32152377",
   "metadata": {},
   "outputs": [],
   "source": [
    "# Preprocess: normalize and one-hot encode\n",
    "x_train = x_train.astype('float32') / 255.0\n",
    "x_test = x_test.astype('float32') / 255.0\n",
    "y_train_cat = to_categorical(y_train, 10)\n",
    "y_test_cat = to_categorical(y_test, 10)\n",
    "\n",
    "print('Prepared x_train shape:', x_train.shape, 'dtype:', x_train.dtype)\n",
    "print('Prepared y_train shape:', y_train_cat.shape)"
   ]
  },
  {
   "cell_type": "code",
   "execution_count": null,
   "id": "cfc253b4",
   "metadata": {},
   "outputs": [],
   "source": [
    "# Display a few sample images\n",
    "plt.figure(figsize=(8,4))\n",
    "for i in range(10):\n",
    "    plt.subplot(2,5,i+1)\n",
    "    plt.imshow(x_train[i])\n",
    "    plt.title(class_names[int(y_train[i])])\n",
    "    plt.axis('off')\n",
    "plt.tight_layout()\n",
    "plt.show()"
   ]
  },
  {
   "cell_type": "markdown",
   "id": "7de7ca68",
   "metadata": {},
   "source": [
    "## Model construction\n",
    "\n",
    "We'll build a sequential CNN with three Conv2D+MaxPooling blocks, then flatten and add dense layers. We'll use ReLU activations and Softmax for the output. Max pooling is used to downsample and keep the strongest features (translation invariance)."
   ]
  },
  {
   "cell_type": "code",
   "execution_count": null,
   "id": "f26b55f6",
   "metadata": {},
   "outputs": [],
   "source": [
    "def build_cnn(input_shape=(32,32,3), num_classes=10):\n",
    "    model = models.Sequential()\n",
    "    # First conv block\n",
    "    model.add(layers.Conv2D(32, (3,3), padding='same', activation='relu', input_shape=input_shape))\n",
    "    model.add(layers.MaxPooling2D((2,2)))\n",
    "    # Second conv block\n",
    "    model.add(layers.Conv2D(64, (3,3), padding='same', activation='relu'))\n",
    "    model.add(layers.MaxPooling2D((2,2)))\n",
    "    # Third conv block\n",
    "    model.add(layers.Conv2D(128, (3,3), padding='same', activation='relu'))\n",
    "    model.add(layers.MaxPooling2D((2,2)))\n",
    "    # Flatten and dense layers\n",
    "    model.add(layers.Flatten())\n",
    "    model.add(layers.Dense(128, activation='relu'))\n",
    "    model.add(layers.Dense(num_classes, activation='softmax'))\n",
    "    return model\n",
    "\n",
    "model = build_cnn()\n",
    "model.summary()"
   ]
  },
  {
   "cell_type": "code",
   "execution_count": null,
   "id": "3836469c",
   "metadata": {},
   "outputs": [],
   "source": [
    "# Compile the model\n",
    "model.compile(optimizer='adam', loss='categorical_crossentropy', metrics=['accuracy'])\n",
    "\n",
    "# Callbacks\n",
    "es = EarlyStopping(monitor='val_loss', patience=8, restore_best_weights=True)\n",
    "mc = ModelCheckpoint('best_cnn_cifar10.h5', monitor='val_accuracy', save_best_only=True)\n",
    "\n",
    "# Train\n",
    "history = model.fit(x_train, y_train_cat, epochs=50, batch_size=64, validation_split=0.15, callbacks=[es, mc])"
   ]
  },
  {
   "cell_type": "code",
   "execution_count": null,
   "id": "e5f7caa4",
   "metadata": {},
   "outputs": [],
   "source": [
    "# Evaluate on test set\n",
    "test_loss, test_acc = model.evaluate(x_test, y_test_cat, verbose=2)\n",
    "print('Test accuracy:', test_acc)\n",
    "print('Test loss:', test_loss)"
   ]
  },
  {
   "cell_type": "code",
   "execution_count": null,
   "id": "11ec38ba",
   "metadata": {},
   "outputs": [],
   "source": [
    "# Plot training history\n",
    "fig, ax = plt.subplots(1,2,figsize=(12,4))\n",
    "ax[0].plot(history.history['loss'], label='train')\n",
    "ax[0].plot(history.history['val_loss'], label='val')\n",
    "ax[0].set_title('Loss')\n",
    "ax[0].legend()\n",
    "ax[1].plot(history.history['accuracy'], label='train')\n",
    "ax[1].plot(history.history['val_accuracy'], label='val')\n",
    "ax[1].set_title('Accuracy')\n",
    "ax[1].legend()\n",
    "plt.show()"
   ]
  },
  {
   "cell_type": "code",
   "execution_count": null,
   "id": "d1e8a7d2",
   "metadata": {},
   "outputs": [],
   "source": [
    "# Confusion matrix and classification report\n",
    "y_pred_probs = model.predict(x_test)\n",
    "y_pred = np.argmax(y_pred_probs, axis=1)\n",
    "y_true = y_test.flatten()\n",
    "cm = confusion_matrix(y_true, y_pred)\n",
    "plt.figure(figsize=(8,6))\n",
    "sns.heatmap(cm, annot=True, fmt='d', xticklabels=class_names, yticklabels=class_names, cmap='Blues')\n",
    "plt.xlabel('Predicted')\n",
    "plt.ylabel('True')\n",
    "plt.title('Confusion Matrix')\n",
    "plt.show()\n",
    "\n",
    "print(classification_report(y_true, y_pred, target_names=class_names))"
   ]
  },
  {
   "cell_type": "markdown",
   "id": "d49508cb",
   "metadata": {},
   "source": [
    "## Analysis of Findings\n",
    "\n",
    "(Write your analysis here after running the notebook: discuss training vs validation performance, overfitting/underfitting, confusion matrix insights, and potential improvements.)"
   ]
  },
  {
   "cell_type": "markdown",
   "id": "1a222624",
   "metadata": {},
   "source": [
    "## References\n",
    "\n",
    "- CIFAR-10 dataset: https://www.cs.toronto.edu/~kriz/cifar.html\n",
    "- Keras Documentation: https://keras.io\n",
    "- Goodfellow et al., Deep Learning (2016)"
   ]
  }
 ],
 "metadata": {
  "language_info": {
   "name": "python"
  }
 },
 "nbformat": 4,
 "nbformat_minor": 5
}
